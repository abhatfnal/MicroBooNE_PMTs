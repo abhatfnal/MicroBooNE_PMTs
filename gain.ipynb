{
 "cells": [
  {
   "cell_type": "code",
   "execution_count": null,
   "metadata": {},
   "outputs": [],
   "source": [
    "from baseline_corrector import BaselineCorrector\n",
    "\n",
    "# Set the base directory for the raw CSV files\n",
    "base_directory = '/Users/avinaybhat/Desktop/Coding/Oscilloscope/data'\n",
    "\n",
    "# Create an instance of BaselineCorrector and run the baseline correction\n",
    "corrector = BaselineCorrector(base_directory)\n",
    "corrector.save_baseline_corrected_waveforms()\n"
   ]
  },
  {
   "cell_type": "code",
   "execution_count": null,
   "metadata": {},
   "outputs": [],
   "source": [
    "from pmt_analyzer import WaveformAnalyzer\n",
    "\n",
    "# Example usage:\n",
    "base_directory = '/Users/avinaybhat/Desktop/Coding/Oscilloscope'\n",
    "pdf_histograms_filename = 'histograms_all.pdf'\n",
    "results_csv_filename = 'waveform_analysis_results.csv'\n",
    "\n",
    "analyzer = WaveformAnalyzer(base_directory, pdf_histograms_filename, results_csv_filename, display_waveforms=True, num_waveforms_to_process=1)\n",
    "analyzer.run_analysis()\n",
    "\n"
   ]
  },
  {
   "cell_type": "code",
   "execution_count": null,
   "metadata": {},
   "outputs": [],
   "source": []
  }
 ],
 "metadata": {
  "kernelspec": {
   "display_name": "Python 3 (ipykernel)",
   "language": "python",
   "name": "python3"
  },
  "language_info": {
   "codemirror_mode": {
    "name": "ipython",
    "version": 3
   },
   "file_extension": ".py",
   "mimetype": "text/x-python",
   "name": "python",
   "nbconvert_exporter": "python",
   "pygments_lexer": "ipython3",
   "version": "3.11.0"
  }
 },
 "nbformat": 4,
 "nbformat_minor": 4
}
