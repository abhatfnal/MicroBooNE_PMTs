{
 "cells": [
  {
   "cell_type": "code",
   "execution_count": null,
   "metadata": {},
   "outputs": [],
   "source": [
    "from baseline_corrector import BaselineCorrector\n",
    "\n",
    "# Set the base directory for the raw CSV files\n",
    "base_directory = '/Users/avinaybhat/Desktop/Coding/Oscilloscope/data'\n",
    "\n",
    "# Create an instance of BaselineCorrector and run the baseline correction\n",
    "corrector = BaselineCorrector(base_directory)\n",
    "corrector.save_baseline_corrected_waveforms()\n"
   ]
  },
  {
   "cell_type": "code",
   "execution_count": 1,
   "metadata": {},
   "outputs": [
    {
     "name": "stdout",
     "output_type": "stream",
     "text": [
      "Processing PMT15\n",
      "Processing PMT15 900V\n"
     ]
    },
    {
     "name": "stderr",
     "output_type": "stream",
     "text": [
      "Processing PMT15 900V: 0it [00:00, ?it/s]\n"
     ]
    },
    {
     "name": "stdout",
     "output_type": "stream",
     "text": [
      "Processing PMT15 1000V\n"
     ]
    },
    {
     "name": "stderr",
     "output_type": "stream",
     "text": [
      "Processing PMT15 1000V: 0it [00:00, ?it/s]\n"
     ]
    },
    {
     "name": "stdout",
     "output_type": "stream",
     "text": [
      "Processing PMT15 1100V\n"
     ]
    },
    {
     "name": "stderr",
     "output_type": "stream",
     "text": [
      "Processing PMT15 1100V: 100%|██████████| 1998/1998 [00:20<00:00, 95.18it/s] \n"
     ]
    },
    {
     "name": "stdout",
     "output_type": "stream",
     "text": [
      "Processing PMT15 1200V\n"
     ]
    },
    {
     "name": "stderr",
     "output_type": "stream",
     "text": [
      "Processing PMT15 1200V: 100%|██████████| 1998/1998 [00:19<00:00, 102.12it/s]\n"
     ]
    },
    {
     "name": "stdout",
     "output_type": "stream",
     "text": [
      "Processing PMT15 1300V\n"
     ]
    },
    {
     "name": "stderr",
     "output_type": "stream",
     "text": [
      "Processing PMT15 1300V: 100%|██████████| 1998/1998 [00:20<00:00, 98.72it/s] \n"
     ]
    },
    {
     "name": "stdout",
     "output_type": "stream",
     "text": [
      "Processing PMT15 1400V\n"
     ]
    },
    {
     "name": "stderr",
     "output_type": "stream",
     "text": [
      "Processing PMT15 1400V: 100%|██████████| 1998/1998 [00:19<00:00, 102.78it/s]\n"
     ]
    },
    {
     "name": "stdout",
     "output_type": "stream",
     "text": [
      "Processing PMT15 1500V\n"
     ]
    },
    {
     "name": "stderr",
     "output_type": "stream",
     "text": [
      "Processing PMT15 1500V: 100%|██████████| 1998/1998 [00:17<00:00, 113.50it/s]\n"
     ]
    },
    {
     "name": "stdout",
     "output_type": "stream",
     "text": [
      "Processing PMT15 1600V\n"
     ]
    },
    {
     "name": "stderr",
     "output_type": "stream",
     "text": [
      "Processing PMT15 1600V: 100%|██████████| 1998/1998 [00:15<00:00, 125.49it/s]\n",
      "/Users/avinaybhat/Desktop/Coding/Oscilloscope/pmt_analyzer.py:283: OptimizeWarning: Covariance of the parameters could not be estimated\n",
      "  popt, _ = curve_fit(gaussian, bin_edges[left_idx:right_idx], hist_values[left_idx:right_idx], p0=[peak_height, peak_position, width / 2.355])\n"
     ]
    },
    {
     "name": "stdout",
     "output_type": "stream",
     "text": [
      "Processing PMT15 1700V\n"
     ]
    },
    {
     "name": "stderr",
     "output_type": "stream",
     "text": [
      "Processing PMT15 1700V: 100%|██████████| 1998/1998 [00:14<00:00, 142.18it/s]\n"
     ]
    },
    {
     "name": "stdout",
     "output_type": "stream",
     "text": [
      "Processing PMT15 1800V\n"
     ]
    },
    {
     "name": "stderr",
     "output_type": "stream",
     "text": [
      "Processing PMT15 1800V:  45%|████▌     | 909/1998 [00:06<00:07, 143.38it/s]/Users/avinaybhat/Desktop/Coding/Oscilloscope/pmt_analyzer.py:48: RuntimeWarning: overflow encountered in divide\n",
      "  chi_squared = np.sum((residuals**2) / np.abs(y_exp))\n",
      "Processing PMT15 1800V: 100%|██████████| 1998/1998 [00:13<00:00, 151.92it/s]\n"
     ]
    },
    {
     "name": "stdout",
     "output_type": "stream",
     "text": [
      "Processing PMT16\n",
      "Processing PMT16 900V\n"
     ]
    },
    {
     "name": "stderr",
     "output_type": "stream",
     "text": [
      "Processing PMT16 900V: 0it [00:00, ?it/s]\n"
     ]
    },
    {
     "name": "stdout",
     "output_type": "stream",
     "text": [
      "Processing PMT16 1000V\n"
     ]
    },
    {
     "name": "stderr",
     "output_type": "stream",
     "text": [
      "Processing PMT16 1000V: 0it [00:00, ?it/s]\n"
     ]
    },
    {
     "name": "stdout",
     "output_type": "stream",
     "text": [
      "Processing PMT16 1100V\n"
     ]
    },
    {
     "name": "stderr",
     "output_type": "stream",
     "text": [
      "Processing PMT16 1100V: 100%|██████████| 1998/1998 [00:20<00:00, 95.64it/s] \n"
     ]
    },
    {
     "name": "stdout",
     "output_type": "stream",
     "text": [
      "Processing PMT16 1200V\n"
     ]
    },
    {
     "name": "stderr",
     "output_type": "stream",
     "text": [
      "Processing PMT16 1200V: 100%|██████████| 1998/1998 [00:18<00:00, 108.04it/s]\n"
     ]
    },
    {
     "name": "stdout",
     "output_type": "stream",
     "text": [
      "Processing PMT16 1300V\n"
     ]
    },
    {
     "name": "stderr",
     "output_type": "stream",
     "text": [
      "Processing PMT16 1300V: 100%|██████████| 1998/1998 [00:20<00:00, 97.23it/s] \n"
     ]
    },
    {
     "name": "stdout",
     "output_type": "stream",
     "text": [
      "Processing PMT16 1400V\n"
     ]
    },
    {
     "name": "stderr",
     "output_type": "stream",
     "text": [
      "Processing PMT16 1400V: 100%|██████████| 1998/1998 [00:18<00:00, 108.21it/s]\n"
     ]
    },
    {
     "name": "stdout",
     "output_type": "stream",
     "text": [
      "Processing PMT16 1500V\n"
     ]
    },
    {
     "name": "stderr",
     "output_type": "stream",
     "text": [
      "Processing PMT16 1500V: 100%|██████████| 1998/1998 [00:17<00:00, 114.97it/s]\n"
     ]
    },
    {
     "name": "stdout",
     "output_type": "stream",
     "text": [
      "Processing PMT16 1600V\n"
     ]
    },
    {
     "name": "stderr",
     "output_type": "stream",
     "text": [
      "Processing PMT16 1600V: 100%|██████████| 1998/1998 [00:18<00:00, 107.00it/s]\n",
      "/Users/avinaybhat/Desktop/Coding/Oscilloscope/pmt_analyzer.py:283: OptimizeWarning: Covariance of the parameters could not be estimated\n",
      "  popt, _ = curve_fit(gaussian, bin_edges[left_idx:right_idx], hist_values[left_idx:right_idx], p0=[peak_height, peak_position, width / 2.355])\n"
     ]
    },
    {
     "name": "stdout",
     "output_type": "stream",
     "text": [
      "Processing PMT16 1700V\n"
     ]
    },
    {
     "name": "stderr",
     "output_type": "stream",
     "text": [
      "Processing PMT16 1700V: 100%|██████████| 1998/1998 [00:15<00:00, 125.34it/s]\n"
     ]
    },
    {
     "name": "stdout",
     "output_type": "stream",
     "text": [
      "Processing PMT16 1800V\n"
     ]
    },
    {
     "name": "stderr",
     "output_type": "stream",
     "text": [
      "Processing PMT16 1800V: 100%|██████████| 1998/1998 [00:15<00:00, 130.79it/s]\n"
     ]
    },
    {
     "name": "stdout",
     "output_type": "stream",
     "text": [
      "Processing PMT24\n",
      "Processing PMT24 900V\n"
     ]
    },
    {
     "name": "stderr",
     "output_type": "stream",
     "text": [
      "Processing PMT24 900V: 0it [00:00, ?it/s]\n"
     ]
    },
    {
     "name": "stdout",
     "output_type": "stream",
     "text": [
      "Processing PMT24 1000V\n"
     ]
    },
    {
     "name": "stderr",
     "output_type": "stream",
     "text": [
      "Processing PMT24 1000V: 0it [00:00, ?it/s]\n"
     ]
    },
    {
     "name": "stdout",
     "output_type": "stream",
     "text": [
      "Processing PMT24 1100V\n"
     ]
    },
    {
     "name": "stderr",
     "output_type": "stream",
     "text": [
      "Processing PMT24 1100V:   3%|▎         | 27/930 [00:00<00:15, 59.60it/s]/Users/avinaybhat/Desktop/Coding/Oscilloscope/pmt_analyzer.py:48: RuntimeWarning: overflow encountered in divide\n",
      "  chi_squared = np.sum((residuals**2) / np.abs(y_exp))\n",
      "Processing PMT24 1100V: 100%|██████████| 930/930 [00:14<00:00, 64.18it/s]\n"
     ]
    },
    {
     "name": "stdout",
     "output_type": "stream",
     "text": [
      "Processing PMT24 1200V\n"
     ]
    },
    {
     "name": "stderr",
     "output_type": "stream",
     "text": [
      "Processing PMT24 1200V: 100%|██████████| 1998/1998 [00:30<00:00, 65.13it/s]\n"
     ]
    },
    {
     "name": "stdout",
     "output_type": "stream",
     "text": [
      "Processing PMT24 1300V\n"
     ]
    },
    {
     "name": "stderr",
     "output_type": "stream",
     "text": [
      "Processing PMT24 1300V: 100%|██████████| 1998/1998 [00:33<00:00, 59.06it/s]\n"
     ]
    },
    {
     "name": "stdout",
     "output_type": "stream",
     "text": [
      "Processing PMT24 1400V\n"
     ]
    },
    {
     "name": "stderr",
     "output_type": "stream",
     "text": [
      "Processing PMT24 1400V: 100%|██████████| 1998/1998 [00:31<00:00, 63.75it/s]\n"
     ]
    },
    {
     "name": "stdout",
     "output_type": "stream",
     "text": [
      "Processing PMT24 1500V\n"
     ]
    },
    {
     "name": "stderr",
     "output_type": "stream",
     "text": [
      "Processing PMT24 1500V: 100%|██████████| 1998/1998 [00:30<00:00, 65.51it/s]\n"
     ]
    },
    {
     "name": "stdout",
     "output_type": "stream",
     "text": [
      "Processing PMT24 1600V\n"
     ]
    },
    {
     "name": "stderr",
     "output_type": "stream",
     "text": [
      "Processing PMT24 1600V: 100%|██████████| 1998/1998 [00:28<00:00, 69.88it/s]\n",
      "/Users/avinaybhat/Desktop/Coding/Oscilloscope/pmt_analyzer.py:232: OptimizeWarning: Covariance of the parameters could not be estimated\n",
      "  popt, _ = curve_fit(gaussian, bin_edges[left_idx:right_idx], hist_values[left_idx:right_idx], p0=[peak_height, peak_position, width / 2.355])\n"
     ]
    },
    {
     "name": "stdout",
     "output_type": "stream",
     "text": [
      "Warning: Could not fit a Gaussian to peak at 0.26 V*ns due to insufficient data points.\n",
      "Processing PMT24 1700V\n"
     ]
    },
    {
     "name": "stderr",
     "output_type": "stream",
     "text": [
      "Processing PMT24 1700V: 100%|██████████| 1998/1998 [00:27<00:00, 72.03it/s]\n",
      "/Users/avinaybhat/Desktop/Coding/Oscilloscope/pmt_analyzer.py:283: OptimizeWarning: Covariance of the parameters could not be estimated\n",
      "  popt, _ = curve_fit(gaussian, bin_edges[left_idx:right_idx], hist_values[left_idx:right_idx], p0=[peak_height, peak_position, width / 2.355])\n"
     ]
    },
    {
     "name": "stdout",
     "output_type": "stream",
     "text": [
      "Processing PMT24 1800V\n"
     ]
    },
    {
     "name": "stderr",
     "output_type": "stream",
     "text": [
      "Processing PMT24 1800V: 100%|██████████| 1998/1998 [00:26<00:00, 75.13it/s]\n"
     ]
    },
    {
     "name": "stdout",
     "output_type": "stream",
     "text": [
      "Processing PMT28\n",
      "Processing PMT28 900V\n"
     ]
    },
    {
     "name": "stderr",
     "output_type": "stream",
     "text": [
      "Processing PMT28 900V: 0it [00:00, ?it/s]\n"
     ]
    },
    {
     "name": "stdout",
     "output_type": "stream",
     "text": [
      "Processing PMT28 1000V\n"
     ]
    },
    {
     "name": "stderr",
     "output_type": "stream",
     "text": [
      "Processing PMT28 1000V: 0it [00:00, ?it/s]\n"
     ]
    },
    {
     "name": "stdout",
     "output_type": "stream",
     "text": [
      "Processing PMT28 1100V\n"
     ]
    },
    {
     "name": "stderr",
     "output_type": "stream",
     "text": [
      "Processing PMT28 1100V: 100%|██████████| 999/999 [00:09<00:00, 104.20it/s]\n"
     ]
    },
    {
     "name": "stdout",
     "output_type": "stream",
     "text": [
      "Processing PMT28 1200V\n"
     ]
    },
    {
     "name": "stderr",
     "output_type": "stream",
     "text": [
      "Processing PMT28 1200V: 100%|██████████| 668/668 [00:06<00:00, 106.17it/s]\n"
     ]
    },
    {
     "name": "stdout",
     "output_type": "stream",
     "text": [
      "Processing PMT28 1300V\n"
     ]
    },
    {
     "name": "stderr",
     "output_type": "stream",
     "text": [
      "Processing PMT28 1300V: 100%|██████████| 999/999 [00:08<00:00, 115.89it/s]\n"
     ]
    },
    {
     "name": "stdout",
     "output_type": "stream",
     "text": [
      "Processing PMT28 1400V\n"
     ]
    },
    {
     "name": "stderr",
     "output_type": "stream",
     "text": [
      "Processing PMT28 1400V: 100%|██████████| 999/999 [00:10<00:00, 93.19it/s] \n"
     ]
    },
    {
     "name": "stdout",
     "output_type": "stream",
     "text": [
      "Processing PMT28 1500V\n"
     ]
    },
    {
     "name": "stderr",
     "output_type": "stream",
     "text": [
      "Processing PMT28 1500V: 100%|██████████| 999/999 [00:09<00:00, 100.08it/s]\n"
     ]
    },
    {
     "name": "stdout",
     "output_type": "stream",
     "text": [
      "Processing PMT28 1600V\n"
     ]
    },
    {
     "name": "stderr",
     "output_type": "stream",
     "text": [
      "Processing PMT28 1600V: 100%|██████████| 999/999 [00:09<00:00, 108.45it/s]\n",
      "/Users/avinaybhat/Desktop/Coding/Oscilloscope/pmt_analyzer.py:283: OptimizeWarning: Covariance of the parameters could not be estimated\n",
      "  popt, _ = curve_fit(gaussian, bin_edges[left_idx:right_idx], hist_values[left_idx:right_idx], p0=[peak_height, peak_position, width / 2.355])\n"
     ]
    },
    {
     "name": "stdout",
     "output_type": "stream",
     "text": [
      "Processing PMT28 1700V\n"
     ]
    },
    {
     "name": "stderr",
     "output_type": "stream",
     "text": [
      "Processing PMT28 1700V: 100%|██████████| 999/999 [00:08<00:00, 116.90it/s]\n"
     ]
    },
    {
     "name": "stdout",
     "output_type": "stream",
     "text": [
      "Processing PMT28 1800V\n"
     ]
    },
    {
     "name": "stderr",
     "output_type": "stream",
     "text": [
      "Processing PMT28 1800V: 100%|██████████| 999/999 [00:07<00:00, 130.36it/s]\n"
     ]
    },
    {
     "name": "stdout",
     "output_type": "stream",
     "text": [
      "Processing PMT29\n",
      "Processing PMT29 900V\n"
     ]
    },
    {
     "name": "stderr",
     "output_type": "stream",
     "text": [
      "Processing PMT29 900V: 0it [00:00, ?it/s]\n"
     ]
    },
    {
     "name": "stdout",
     "output_type": "stream",
     "text": [
      "Processing PMT29 1000V\n"
     ]
    },
    {
     "name": "stderr",
     "output_type": "stream",
     "text": [
      "Processing PMT29 1000V: 0it [00:00, ?it/s]\n"
     ]
    },
    {
     "name": "stdout",
     "output_type": "stream",
     "text": [
      "Processing PMT29 1100V\n"
     ]
    },
    {
     "name": "stderr",
     "output_type": "stream",
     "text": [
      "Processing PMT29 1100V:  22%|██▏       | 224/999 [00:03<00:10, 74.93it/s]/Users/avinaybhat/Desktop/Coding/Oscilloscope/pmt_analyzer.py:48: RuntimeWarning: overflow encountered in divide\n",
      "  chi_squared = np.sum((residuals**2) / np.abs(y_exp))\n",
      "Processing PMT29 1100V: 100%|██████████| 999/999 [00:13<00:00, 72.26it/s]\n"
     ]
    },
    {
     "name": "stdout",
     "output_type": "stream",
     "text": [
      "Processing PMT29 1200V\n"
     ]
    },
    {
     "name": "stderr",
     "output_type": "stream",
     "text": [
      "Processing PMT29 1200V: 100%|██████████| 999/999 [00:13<00:00, 74.17it/s]\n"
     ]
    },
    {
     "name": "stdout",
     "output_type": "stream",
     "text": [
      "Processing PMT29 1300V\n"
     ]
    },
    {
     "name": "stderr",
     "output_type": "stream",
     "text": [
      "Processing PMT29 1300V: 100%|██████████| 999/999 [00:14<00:00, 67.14it/s]\n"
     ]
    },
    {
     "name": "stdout",
     "output_type": "stream",
     "text": [
      "Processing PMT29 1400V\n"
     ]
    },
    {
     "name": "stderr",
     "output_type": "stream",
     "text": [
      "Processing PMT29 1400V: 100%|██████████| 999/999 [00:14<00:00, 71.23it/s]\n"
     ]
    },
    {
     "name": "stdout",
     "output_type": "stream",
     "text": [
      "Processing PMT29 1500V\n"
     ]
    },
    {
     "name": "stderr",
     "output_type": "stream",
     "text": [
      "Processing PMT29 1500V: 100%|██████████| 999/999 [00:13<00:00, 73.44it/s]\n"
     ]
    },
    {
     "name": "stdout",
     "output_type": "stream",
     "text": [
      "Processing PMT29 1600V\n"
     ]
    },
    {
     "name": "stderr",
     "output_type": "stream",
     "text": [
      "Processing PMT29 1600V: 100%|██████████| 999/999 [00:13<00:00, 72.66it/s]\n",
      "/Users/avinaybhat/Desktop/Coding/Oscilloscope/pmt_analyzer.py:283: OptimizeWarning: Covariance of the parameters could not be estimated\n",
      "  popt, _ = curve_fit(gaussian, bin_edges[left_idx:right_idx], hist_values[left_idx:right_idx], p0=[peak_height, peak_position, width / 2.355])\n"
     ]
    },
    {
     "name": "stdout",
     "output_type": "stream",
     "text": [
      "Processing PMT29 1700V\n"
     ]
    },
    {
     "name": "stderr",
     "output_type": "stream",
     "text": [
      "Processing PMT29 1700V: 100%|██████████| 999/999 [00:13<00:00, 74.71it/s]\n"
     ]
    },
    {
     "name": "stdout",
     "output_type": "stream",
     "text": [
      "Processing PMT29 1800V\n"
     ]
    },
    {
     "name": "stderr",
     "output_type": "stream",
     "text": [
      "Processing PMT29 1800V: 100%|██████████| 999/999 [00:13<00:00, 74.25it/s]\n"
     ]
    },
    {
     "name": "stdout",
     "output_type": "stream",
     "text": [
      "Processing PMT30\n",
      "Processing PMT30 900V\n"
     ]
    },
    {
     "name": "stderr",
     "output_type": "stream",
     "text": [
      "Processing PMT30 900V: 0it [00:00, ?it/s]\n"
     ]
    },
    {
     "name": "stdout",
     "output_type": "stream",
     "text": [
      "Processing PMT30 1000V\n"
     ]
    },
    {
     "name": "stderr",
     "output_type": "stream",
     "text": [
      "Processing PMT30 1000V: 0it [00:00, ?it/s]\n"
     ]
    },
    {
     "name": "stdout",
     "output_type": "stream",
     "text": [
      "Processing PMT30 1100V\n"
     ]
    },
    {
     "name": "stderr",
     "output_type": "stream",
     "text": [
      "Processing PMT30 1100V: 100%|██████████| 999/999 [00:09<00:00, 103.84it/s]\n"
     ]
    },
    {
     "name": "stdout",
     "output_type": "stream",
     "text": [
      "Processing PMT30 1200V\n"
     ]
    },
    {
     "name": "stderr",
     "output_type": "stream",
     "text": [
      "Processing PMT30 1200V: 100%|██████████| 999/999 [00:10<00:00, 96.55it/s] \n"
     ]
    },
    {
     "name": "stdout",
     "output_type": "stream",
     "text": [
      "Processing PMT30 1300V\n"
     ]
    },
    {
     "name": "stderr",
     "output_type": "stream",
     "text": [
      "Processing PMT30 1300V: 100%|██████████| 999/999 [00:09<00:00, 107.46it/s]\n"
     ]
    },
    {
     "name": "stdout",
     "output_type": "stream",
     "text": [
      "Processing PMT30 1400V\n"
     ]
    },
    {
     "name": "stderr",
     "output_type": "stream",
     "text": [
      "Processing PMT30 1400V: 100%|██████████| 999/999 [00:08<00:00, 119.48it/s]\n"
     ]
    },
    {
     "name": "stdout",
     "output_type": "stream",
     "text": [
      "Processing PMT30 1500V\n"
     ]
    },
    {
     "name": "stderr",
     "output_type": "stream",
     "text": [
      "Processing PMT30 1500V: 100%|██████████| 999/999 [00:07<00:00, 129.29it/s]\n"
     ]
    },
    {
     "name": "stdout",
     "output_type": "stream",
     "text": [
      "Processing PMT30 1600V\n"
     ]
    },
    {
     "name": "stderr",
     "output_type": "stream",
     "text": [
      "Processing PMT30 1600V: 100%|██████████| 999/999 [00:07<00:00, 134.83it/s]\n"
     ]
    },
    {
     "name": "stdout",
     "output_type": "stream",
     "text": [
      "Processing PMT30 1700V\n"
     ]
    },
    {
     "name": "stderr",
     "output_type": "stream",
     "text": [
      "Processing PMT30 1700V: 100%|██████████| 999/999 [00:08<00:00, 121.89it/s]\n"
     ]
    },
    {
     "name": "stdout",
     "output_type": "stream",
     "text": [
      "Processing PMT30 1800V\n"
     ]
    },
    {
     "name": "stderr",
     "output_type": "stream",
     "text": [
      "Processing PMT30 1800V: 100%|██████████| 999/999 [00:09<00:00, 109.01it/s]\n"
     ]
    },
    {
     "name": "stdout",
     "output_type": "stream",
     "text": [
      "Warning: Could not fit a Gaussian to peak at 0.93 V due to insufficient data points.\n",
      "Processing PMT31\n",
      "Processing PMT31 900V\n"
     ]
    },
    {
     "name": "stderr",
     "output_type": "stream",
     "text": [
      "Processing PMT31 900V: 0it [00:00, ?it/s]\n"
     ]
    },
    {
     "name": "stdout",
     "output_type": "stream",
     "text": [
      "Processing PMT31 1000V\n"
     ]
    },
    {
     "name": "stderr",
     "output_type": "stream",
     "text": [
      "Processing PMT31 1000V: 0it [00:00, ?it/s]\n"
     ]
    },
    {
     "name": "stdout",
     "output_type": "stream",
     "text": [
      "Processing PMT31 1100V\n"
     ]
    },
    {
     "name": "stderr",
     "output_type": "stream",
     "text": [
      "Processing PMT31 1100V: 100%|██████████| 999/999 [00:10<00:00, 93.91it/s] \n"
     ]
    },
    {
     "name": "stdout",
     "output_type": "stream",
     "text": [
      "Processing PMT31 1200V\n"
     ]
    },
    {
     "name": "stderr",
     "output_type": "stream",
     "text": [
      "Processing PMT31 1200V: 100%|██████████| 999/999 [00:10<00:00, 96.78it/s] \n"
     ]
    },
    {
     "name": "stdout",
     "output_type": "stream",
     "text": [
      "Processing PMT31 1300V\n"
     ]
    },
    {
     "name": "stderr",
     "output_type": "stream",
     "text": [
      "Processing PMT31 1300V: 100%|██████████| 999/999 [00:11<00:00, 87.72it/s]\n"
     ]
    },
    {
     "name": "stdout",
     "output_type": "stream",
     "text": [
      "Processing PMT31 1400V\n"
     ]
    },
    {
     "name": "stderr",
     "output_type": "stream",
     "text": [
      "Processing PMT31 1400V:  52%|█████▏    | 524/999 [00:05<00:05, 93.83it/s]/Users/avinaybhat/Desktop/Coding/Oscilloscope/pmt_analyzer.py:48: RuntimeWarning: overflow encountered in divide\n",
      "  chi_squared = np.sum((residuals**2) / np.abs(y_exp))\n",
      "Processing PMT31 1400V: 100%|██████████| 999/999 [00:10<00:00, 90.83it/s]\n"
     ]
    },
    {
     "name": "stdout",
     "output_type": "stream",
     "text": [
      "Processing PMT31 1500V\n"
     ]
    },
    {
     "name": "stderr",
     "output_type": "stream",
     "text": [
      "Processing PMT31 1500V: 100%|██████████| 999/999 [00:09<00:00, 100.40it/s]\n"
     ]
    },
    {
     "name": "stdout",
     "output_type": "stream",
     "text": [
      "Processing PMT31 1600V\n"
     ]
    },
    {
     "name": "stderr",
     "output_type": "stream",
     "text": [
      "Processing PMT31 1600V:  55%|█████▍    | 549/999 [00:05<00:05, 89.05it/s] "
     ]
    },
    {
     "name": "stdout",
     "output_type": "stream",
     "text": [
      "Error processing waveform_535: Empty waveform data\n",
      "Error processing waveform_536: Empty waveform data\n",
      "Error processing waveform_537: Empty waveform data\n",
      "Error processing waveform_538: Empty waveform data\n",
      "Error processing waveform_539: Empty waveform data\n"
     ]
    },
    {
     "name": "stderr",
     "output_type": "stream",
     "text": [
      "Processing PMT31 1600V: 100%|██████████| 999/999 [00:09<00:00, 106.44it/s]\n",
      "/Users/avinaybhat/Desktop/Coding/Oscilloscope/pmt_analyzer.py:283: OptimizeWarning: Covariance of the parameters could not be estimated\n",
      "  popt, _ = curve_fit(gaussian, bin_edges[left_idx:right_idx], hist_values[left_idx:right_idx], p0=[peak_height, peak_position, width / 2.355])\n"
     ]
    },
    {
     "name": "stdout",
     "output_type": "stream",
     "text": [
      "Processing PMT31 1700V\n"
     ]
    },
    {
     "name": "stderr",
     "output_type": "stream",
     "text": [
      "Processing PMT31 1700V: 100%|██████████| 999/999 [00:08<00:00, 117.93it/s]\n"
     ]
    },
    {
     "name": "stdout",
     "output_type": "stream",
     "text": [
      "Processing PMT31 1800V\n"
     ]
    },
    {
     "name": "stderr",
     "output_type": "stream",
     "text": [
      "Processing PMT31 1800V:  16%|█▌        | 155/999 [00:01<00:06, 128.30it/s]"
     ]
    },
    {
     "name": "stdout",
     "output_type": "stream",
     "text": [
      "Error processing waveform_130: Empty waveform data\n",
      "Error processing waveform_131: Empty waveform data\n",
      "Error processing waveform_132: Empty waveform data\n",
      "Error processing waveform_133: Empty waveform data\n",
      "Error processing waveform_134: Empty waveform data\n",
      "Error processing waveform_135: Empty waveform data\n",
      "Error processing waveform_136: Empty waveform data\n"
     ]
    },
    {
     "name": "stderr",
     "output_type": "stream",
     "text": [
      "Processing PMT31 1800V: 100%|██████████| 999/999 [00:08<00:00, 123.28it/s]\n"
     ]
    }
   ],
   "source": [
    "from pmt_analyzer import WaveformAnalyzer\n",
    "\n",
    "# Example usage:\n",
    "base_directory = '/Users/avinaybhat/Desktop/Coding/Oscilloscope'\n",
    "pdf_histograms_filename = 'histograms_all.pdf'\n",
    "results_csv_filename = 'waveform_analysis_results.csv'\n",
    "\n",
    "# Choose which fits to include and specify peak detection parameters\n",
    "# fit_choices = ['Gaussian', 'Lorentzian', 'Log Normal', 'Best Fit', 'Data']\n",
    "fit_choices = ['Log Normal','Data']\n",
    "peak_params = {\n",
    "    'max_heights': {'distance': 60, 'prominence': None, 'height': 25},  \n",
    "    'integrals': {'distance': 40, 'prominence': None, 'height': 50}     \n",
    "}\n",
    "\n",
    "analyzer = WaveformAnalyzer(base_directory, pdf_histograms_filename, results_csv_filename, display_waveforms=False, num_waveforms_to_process=None, fit_choices=fit_choices, peak_params=peak_params, histogram_fitting=True)\n",
    "analyzer.run_analysis()\n"
   ]
  },
  {
   "cell_type": "code",
   "execution_count": null,
   "metadata": {},
   "outputs": [],
   "source": []
  }
 ],
 "metadata": {
  "kernelspec": {
   "display_name": "Python 3 (ipykernel)",
   "language": "python",
   "name": "python3"
  },
  "language_info": {
   "codemirror_mode": {
    "name": "ipython",
    "version": 3
   },
   "file_extension": ".py",
   "mimetype": "text/x-python",
   "name": "python",
   "nbconvert_exporter": "python",
   "pygments_lexer": "ipython3",
   "version": "3.11.0"
  }
 },
 "nbformat": 4,
 "nbformat_minor": 4
}
